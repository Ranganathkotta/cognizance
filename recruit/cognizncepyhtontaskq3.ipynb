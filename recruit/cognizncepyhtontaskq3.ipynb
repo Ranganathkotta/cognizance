{
 "cells": [
  {
   "cell_type": "code",
   "execution_count": 3,
   "id": "4a488cf5",
   "metadata": {},
   "outputs": [
    {
     "name": "stdout",
     "output_type": "stream",
     "text": [
      "Most repeated word: python\n",
      "Frequency: 4\n"
     ]
    }
   ],
   "source": [
    "\n",
    "file = open(\"about.txt\",\"r\")\n",
    "frequent_word = \"\"\n",
    "frequency = 0\n",
    "words = []\n",
    "for line in file:\n",
    "    line_word = line.lower().replace(',','').replace('.','').split(\" \");\n",
    "    for w in line_word:\n",
    "        words.append(w);\n",
    "for i in range(0, len(words)):\n",
    "    count = 1;\n",
    "    for j in range(i+1, len(words)):\n",
    "        if(words[i] == words[j]):\n",
    "            count = count + 1;\n",
    "    if(count > frequency):\n",
    "        frequency = count;\n",
    "        frequent_word = words[i];\n",
    "\n",
    "print(\"Most repeated word: \" + frequent_word)\n",
    "print(\"Frequency: \" + str(frequency))\n",
    "file.close();\n"
   ]
  },
  {
   "cell_type": "code",
   "execution_count": null,
   "id": "9c825cf1",
   "metadata": {},
   "outputs": [],
   "source": []
  },
  {
   "cell_type": "code",
   "execution_count": null,
   "id": "f9642023",
   "metadata": {},
   "outputs": [],
   "source": []
  }
 ],
 "metadata": {
  "kernelspec": {
   "display_name": "Python 3 (ipykernel)",
   "language": "python",
   "name": "python3"
  },
  "language_info": {
   "codemirror_mode": {
    "name": "ipython",
    "version": 3
   },
   "file_extension": ".py",
   "mimetype": "text/x-python",
   "name": "python",
   "nbconvert_exporter": "python",
   "pygments_lexer": "ipython3",
   "version": "3.9.12"
  }
 },
 "nbformat": 4,
 "nbformat_minor": 5
}
