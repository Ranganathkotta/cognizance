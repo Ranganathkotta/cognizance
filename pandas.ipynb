{
  "nbformat": 4,
  "nbformat_minor": 0,
  "metadata": {
    "colab": {
      "provenance": [],
      "authorship_tag": "ABX9TyNzQEwf/qiWNVUwyjA+b1ps",
      "include_colab_link": true
    },
    "kernelspec": {
      "name": "python3",
      "display_name": "Python 3"
    },
    "language_info": {
      "name": "python"
    }
  },
  "cells": [
    {
      "cell_type": "markdown",
      "metadata": {
        "id": "view-in-github",
        "colab_type": "text"
      },
      "source": [
        "<a href=\"https://colab.research.google.com/github/Ranganathkotta/cognizance/blob/main/pandas.ipynb\" target=\"_parent\"><img src=\"https://colab.research.google.com/assets/colab-badge.svg\" alt=\"Open In Colab\"/></a>"
      ]
    },
    {
      "cell_type": "code",
      "source": [
        "import pandas as pd\n",
        "from sklearn.feature_extraction.text import CountVectorizer\n",
        "from sklearn.model_selection import train_test_split\n",
        "from sklearn.linear_model import LogisticRegression\n",
        "from sklearn.pipeline import make_pipeline\n",
        "from sklearn.metrics import classification_report, accuracy_score"
      ],
      "metadata": {
        "id": "RZSyFxP9r1sW"
      },
      "execution_count": 46,
      "outputs": []
    },
    {
      "cell_type": "code",
      "source": [
        "\n",
        "with open('pandas.txt', 'r') as f:\n",
        "  text_data = f.readlines()\n",
        "vectorizer = CountVectorizer()\n",
        "vectorizer.fit(text_data)\n",
        "bow_model = vectorizer.transform(text_data)\n",
        "#print(bow_model)\n",
        "#print(vectorizer.vocabulary_)\n",
        "\n"
      ],
      "metadata": {
        "id": "VdHppF70oEzY"
      },
      "execution_count": 47,
      "outputs": []
    },
    {
      "cell_type": "code",
      "source": [
        "with open('pandas.txt', 'r') as f:\n",
        "    text_data = [line.strip() for line in f.readlines()]\n",
        "df = pd.DataFrame(text_data, columns=['text'])\n",
        "df['label'] = df['text'].apply(lambda x: 'head' if 'first' in x or 'top' in x else 'tail' if 'last' in x else 'other')\n",
        "print(\"Unique labels:\", df['label'].unique())"
      ],
      "metadata": {
        "colab": {
          "base_uri": "https://localhost:8080/"
        },
        "id": "dbxA9MuNuZ0A",
        "outputId": "601da7b5-c222-4690-e5a8-f321398300a9"
      },
      "execution_count": 48,
      "outputs": [
        {
          "output_type": "stream",
          "name": "stdout",
          "text": [
            "Unique labels: ['other' 'head']\n"
          ]
        }
      ]
    },
    {
      "cell_type": "code",
      "source": [
        "vectorizer = CountVectorizer()\n",
        "bow_model = vectorizer.fit_transform(df['text'])\n",
        "#print(bow_model.toarray())\n",
        "#print(vectorizer.vocabulary_)"
      ],
      "metadata": {
        "id": "-JB8BbPzujtX"
      },
      "execution_count": 49,
      "outputs": []
    },
    {
      "cell_type": "code",
      "source": [
        "X_train, X_test, y_train, y_test = train_test_split(bow_model, df['label'], test_size=0.2, random_state=42)\n",
        "print(\"Training set label distribution:\\n\", y_train.value_counts())\n",
        "if len(set(y_train)) < 2:\n",
        "    raise ValueError(\"Training data must contain at least two different classes.\")\n",
        "\n",
        "model = LogisticRegression()\n",
        "model.fit(X_train, y_train)\n",
        "\n",
        "# Step 6: Evaluate the model\n",
        "y_pred = model.predict(X_test)\n",
        "\n",
        "# Print predicted labels\n",
        "print(\"Predicted labels:\", y_pred)\n",
        "\n",
        "# Print accuracy and classification report with zero_division parameter\n",
        "print(\"Accuracy:\", accuracy_score(y_test, y_pred))\n",
        "print(classification_report(y_test, y_pred, zero_division=0))\n",
        "\n",
        "# Function to predict label for new input text\n",
        "def predict_label(input_text):\n",
        "    input_data = [input_text]  # Create a list\n",
        "    input_bow = vectorizer.transform(input_data)  # Transform the input text to BoW representation\n",
        "    predicted_label = model.predict(input_bow)  # Predict the label\n",
        "    return predicted_label[0]  # Return the predicted label"
      ],
      "metadata": {
        "colab": {
          "base_uri": "https://localhost:8080/"
        },
        "id": "R416kksSutDZ",
        "outputId": "b6501f05-ab1e-4a60-f6ab-3f493106437a"
      },
      "execution_count": 50,
      "outputs": [
        {
          "output_type": "stream",
          "name": "stdout",
          "text": [
            "Training set label distribution:\n",
            " label\n",
            "head     13\n",
            "other    11\n",
            "Name: count, dtype: int64\n",
            "Predicted labels: ['other' 'head' 'other' 'head' 'head' 'head']\n",
            "Accuracy: 0.6666666666666666\n",
            "              precision    recall  f1-score   support\n",
            "\n",
            "        head       0.50      1.00      0.67         2\n",
            "       other       1.00      0.50      0.67         4\n",
            "\n",
            "    accuracy                           0.67         6\n",
            "   macro avg       0.75      0.75      0.67         6\n",
            "weighted avg       0.83      0.67      0.67         6\n",
            "\n"
          ]
        }
      ]
    },
    {
      "cell_type": "code",
      "source": [
        "new_text = \"give me the top elements\"\n",
        "predicted = predict_label(new_text)\n",
        "print(f\"Predicted label for '{new_text}':\", predicted)"
      ],
      "metadata": {
        "colab": {
          "base_uri": "https://localhost:8080/"
        },
        "id": "baOVQLsvu0pT",
        "outputId": "91aaac8d-fca0-4e5e-cfa4-bb84fe3fb6b6"
      },
      "execution_count": 51,
      "outputs": [
        {
          "output_type": "stream",
          "name": "stdout",
          "text": [
            "Predicted label for 'give me the top elements': head\n"
          ]
        }
      ]
    },
    {
      "cell_type": "code",
      "source": [
        "def headofcsv():\n",
        "  df = pd.read_csv('/content/wine.csv')\n",
        "  print(df.head())\n",
        "\n",
        "\n"
      ],
      "metadata": {
        "id": "34IdFyaivxRC"
      },
      "execution_count": 52,
      "outputs": []
    },
    {
      "cell_type": "code",
      "source": [
        "if predicted == \"head\":\n",
        "  headofcsv()"
      ],
      "metadata": {
        "colab": {
          "base_uri": "https://localhost:8080/"
        },
        "id": "VFXkFAYPvbfp",
        "outputId": "193a7a21-70e4-47fc-daa0-cf2f3328f3c2"
      },
      "execution_count": 53,
      "outputs": [
        {
          "output_type": "stream",
          "name": "stdout",
          "text": [
            "   fixed acidity  volatile acidity  citric acid  residual sugar  chlorides  \\\n",
            "0            7.4              0.70         0.00             1.9      0.076   \n",
            "1            7.8              0.88         0.00             2.6      0.098   \n",
            "2            7.8              0.76         0.04             2.3      0.092   \n",
            "3           11.2              0.28         0.56             1.9      0.075   \n",
            "4            7.4              0.70         0.00             1.9      0.076   \n",
            "\n",
            "   free sulfur dioxide  total sulfur dioxide  density    pH  sulphates  \\\n",
            "0                 11.0                  34.0   0.9978  3.51       0.56   \n",
            "1                 25.0                  67.0   0.9968  3.20       0.68   \n",
            "2                 15.0                  54.0   0.9970  3.26       0.65   \n",
            "3                 17.0                  60.0   0.9980  3.16       0.58   \n",
            "4                 11.0                  34.0   0.9978  3.51       0.56   \n",
            "\n",
            "   alcohol  quality  \n",
            "0      9.4        5  \n",
            "1      9.8        5  \n",
            "2      9.8        5  \n",
            "3      9.8        6  \n",
            "4      9.4        5  \n"
          ]
        }
      ]
    }
  ]
}